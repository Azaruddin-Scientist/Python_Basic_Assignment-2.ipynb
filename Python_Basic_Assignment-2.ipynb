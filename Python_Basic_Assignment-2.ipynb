{
 "cells": [
  {
   "cell_type": "markdown",
   "id": "d489395c",
   "metadata": {},
   "source": [
    "1.What are the two values of the Boolean data type? How do you write them?\n",
    "\n",
    "ans: the two Boolean data type are True and False with first letter always capital."
   ]
  },
  {
   "cell_type": "code",
   "execution_count": 3,
   "id": "5b27cc70",
   "metadata": {},
   "outputs": [
    {
     "name": "stdout",
     "output_type": "stream",
     "text": [
      "True\n",
      "False\n"
     ]
    }
   ],
   "source": [
    "print(10 > 9)\n",
    "print(10 == 9)"
   ]
  },
  {
   "cell_type": "markdown",
   "id": "a7444add",
   "metadata": {},
   "source": [
    "2. What are the three different types of Boolean operators?\n",
    "\n",
    "## a) \"and\" operator\n",
    "   ## b) \"or\" operator\n",
    "   ## c) \"not\" operator\n",
    "\n"
   ]
  },
  {
   "cell_type": "markdown",
   "id": "57be495f",
   "metadata": {},
   "source": [
    "3. Make a list of each Boolean operator's truth tables (i.e. every possible combination of Boolean values for the operator and what it evaluate ).\n"
   ]
  },
  {
   "cell_type": "code",
   "execution_count": 15,
   "id": "ffca905d",
   "metadata": {},
   "outputs": [
    {
     "name": "stdout",
     "output_type": "stream",
     "text": [
      "and operator\n",
      "False\n",
      "False\n",
      "False\n",
      "True\n",
      "or operator\n",
      "False\n",
      "True\n",
      "True\n",
      "True\n",
      "not operator\n",
      "True\n",
      "False\n"
     ]
    }
   ],
   "source": [
    "print(\"and operator\")\n",
    "print(1 > 2 and 2 < 1)\n",
    "print(1 > 2 and 2 > 1)\n",
    "print(2 > 1 and 1 > 2)\n",
    "print(2 > 1 and 2 > 1)\n",
    "print(\"or operator\")\n",
    "print(1 > 2 or 2 < 1)\n",
    "print(1 > 2 or 2 > 1)\n",
    "print(2 > 1 or 1 > 2)\n",
    "print(2 > 1 or 2 > 1)\n",
    "print(\"not operator\")\n",
    "print(not(1 > 2 ))\n",
    "print(not(1 < 2 ))\n"
   ]
  },
  {
   "cell_type": "markdown",
   "id": "403b1963",
   "metadata": {},
   "source": [
    "4. What are the values of the following expressions?"
   ]
  },
  {
   "cell_type": "code",
   "execution_count": 16,
   "id": "8627b759",
   "metadata": {},
   "outputs": [
    {
     "data": {
      "text/plain": [
       "True"
      ]
     },
     "execution_count": 16,
     "metadata": {},
     "output_type": "execute_result"
    }
   ],
   "source": [
    "(5 > 4) and (3 == 5)\n",
    "not (5 > 4)\n",
    "(5 > 4) or (3 == 5)\n",
    "not ((5 > 4) or (3 == 5))\n",
    "(True and True) and (True == False)\n",
    "(not False) or (not True)"
   ]
  },
  {
   "cell_type": "markdown",
   "id": "0046c116",
   "metadata": {},
   "source": [
    "Ans: Result is True"
   ]
  },
  {
   "cell_type": "code",
   "execution_count": null,
   "id": "d5740a72",
   "metadata": {},
   "outputs": [],
   "source": [
    "5. What are the six comparison operators?"
   ]
  },
  {
   "cell_type": "markdown",
   "id": "ede0f118",
   "metadata": {},
   "source": [
    "ans:\n",
    "1) == Equal \n",
    "2) != Not equal \n",
    "3) > Greater than \n",
    "4) < Less than \n",
    "5) >= Greater than or equal to \n",
    "6) <= Less than or equal to "
   ]
  },
  {
   "cell_type": "markdown",
   "id": "ed5b34eb",
   "metadata": {},
   "source": [
    "6. How do you tell the difference between the #assignment operator and assignment operators?Describe a condition and when you would use one.\n",
    "\n",
    "ans:\n",
    "equals to always written 2 times while comparasion written 1 time.\n",
    "\n",
    "example: == is equals to\n",
    "\n",
    "example: = is assignment"
   ]
  },
  {
   "cell_type": "code",
   "execution_count": 19,
   "id": "d23405df",
   "metadata": {},
   "outputs": [
    {
     "name": "stdout",
     "output_type": "stream",
     "text": [
      "False\n"
     ]
    }
   ],
   "source": [
    "x = 5 #assignment operator\n",
    "y = 3 #assignment operator\n",
    "\n",
    "print(x == y) #Equals to operator\n",
    "\n",
    "# returns False because 5 is not equal to 3"
   ]
  },
  {
   "cell_type": "markdown",
   "id": "3f108b2c",
   "metadata": {},
   "source": [
    "7. Identify the three blocks in this code:"
   ]
  },
  {
   "cell_type": "code",
   "execution_count": 21,
   "id": "6d145be5",
   "metadata": {},
   "outputs": [
    {
     "name": "stdout",
     "output_type": "stream",
     "text": [
      "ham\n",
      "spam\n",
      "spam\n"
     ]
    }
   ],
   "source": [
    "   spam = 0\n",
    "if spam == 10:\n",
    "    print('eggs')\n",
    "if spam > 5:\n",
    "    print('bacon')\n",
    "else:\n",
    "    print('ham')\n",
    "    print('spam')\n",
    "    print('spam') "
   ]
  },
  {
   "cell_type": "markdown",
   "id": "c0191632",
   "metadata": {},
   "source": [
    "ans: 3 blocks are \"ham, spam, spam\""
   ]
  },
  {
   "cell_type": "markdown",
   "id": "5c7a9d95",
   "metadata": {},
   "source": [
    "8. Write code that prints Hello if 1 is stored in spam, prints Howdy if 2 is stored in spam, and prints Greetings! if anything else is stored in spam."
   ]
  },
  {
   "cell_type": "code",
   "execution_count": 8,
   "id": "6d361c0c",
   "metadata": {},
   "outputs": [
    {
     "name": "stdout",
     "output_type": "stream",
     "text": [
      "enter the value from 1 to 2. you have entered:1\n",
      "Hello\n"
     ]
    }
   ],
   "source": [
    "spam = int(input('enter the value from 1 to 2. you have entered:'))\n",
    "if spam==1:\n",
    "    print(\"Hello\")\n",
    "elif spam==2:\n",
    "    print(\"Howdy\")\n",
    "else:\n",
    "    print(\"Greetings!\")"
   ]
  },
  {
   "cell_type": "markdown",
   "id": "3ad73123",
   "metadata": {},
   "source": [
    "9.If your programme is stuck in an endless loop, what keys you’ll press?\n",
    "\n",
    "ans:\n",
    "in jupyter notebook go to kernel restart kernel or ctrl+c or esc+0 0"
   ]
  },
  {
   "cell_type": "markdown",
   "id": "202750ef",
   "metadata": {},
   "source": [
    "10. How can you tell the difference between break and continue?"
   ]
  },
  {
   "cell_type": "markdown",
   "id": "33eb7da3",
   "metadata": {},
   "source": [
    "ans: \n",
    "### break :leaves the loop, \n",
    "### continue:jumps to the next iteration of the loop"
   ]
  },
  {
   "cell_type": "markdown",
   "id": "667f7a20",
   "metadata": {},
   "source": [
    "11. In a for loop, what is the difference between range(10), range(0, 10), and range(0, 10, 1)?"
   ]
  },
  {
   "cell_type": "markdown",
   "id": "37b74d61",
   "metadata": {},
   "source": [
    "Ans:\n",
    "\n",
    "range(10): it will print 0 to 9\n",
    "\n",
    "range(0, 10): also print 0 to 9\n",
    "\n",
    "range(0, 10, 1): also print 0 to 9\n",
    "\n",
    "hence all 3 will give same result"
   ]
  },
  {
   "cell_type": "markdown",
   "id": "926c5cfb",
   "metadata": {},
   "source": [
    "12. Write a short program that prints the numbers 1 to 10 using a for loop. Then write an equivalent program that prints the numbers 1 to 10 using a while loop."
   ]
  },
  {
   "cell_type": "code",
   "execution_count": 2,
   "id": "3e12f89f",
   "metadata": {},
   "outputs": [
    {
     "name": "stdout",
     "output_type": "stream",
     "text": [
      "1\n",
      "2\n",
      "3\n",
      "4\n",
      "5\n",
      "6\n",
      "7\n",
      "8\n",
      "9\n",
      "10\n"
     ]
    }
   ],
   "source": [
    "for num in range(1,11,1):\n",
    "    print(num)"
   ]
  },
  {
   "cell_type": "code",
   "execution_count": 2,
   "id": "f1b18f9a",
   "metadata": {},
   "outputs": [
    {
     "name": "stdout",
     "output_type": "stream",
     "text": [
      "1\n",
      "2\n",
      "3\n",
      "4\n",
      "5\n",
      "6\n",
      "7\n",
      "8\n",
      "9\n",
      "10\n"
     ]
    }
   ],
   "source": [
    "i = 1\n",
    "while i in range(11):\n",
    "  print(i)\n",
    "  i += 1"
   ]
  },
  {
   "cell_type": "markdown",
   "id": "c3caf4a5",
   "metadata": {},
   "source": [
    "13. If you had a function named bacon() inside a module named spam, how would you call it after importing spam?"
   ]
  },
  {
   "cell_type": "code",
   "execution_count": 18,
   "id": "ee3a1890",
   "metadata": {},
   "outputs": [
    {
     "name": "stdout",
     "output_type": "stream",
     "text": [
      "The name is Hello\n"
     ]
    }
   ],
   "source": [
    "print(spam().bacon(\"Hello\"))"
   ]
  }
 ],
 "metadata": {
  "kernelspec": {
   "display_name": "Python 3",
   "language": "python",
   "name": "python3"
  },
  "language_info": {
   "codemirror_mode": {
    "name": "ipython",
    "version": 3
   },
   "file_extension": ".py",
   "mimetype": "text/x-python",
   "name": "python",
   "nbconvert_exporter": "python",
   "pygments_lexer": "ipython3",
   "version": "3.8.8"
  }
 },
 "nbformat": 4,
 "nbformat_minor": 5
}
